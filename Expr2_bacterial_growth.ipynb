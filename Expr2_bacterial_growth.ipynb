{
  "nbformat": 4,
  "nbformat_minor": 0,
  "metadata": {
    "colab": {
      "provenance": [],
      "authorship_tag": "ABX9TyNyjRwDNAZVYZCMII7pqjW3",
      "include_colab_link": true
    },
    "kernelspec": {
      "name": "python3",
      "display_name": "Python 3"
    },
    "language_info": {
      "name": "python"
    }
  },
  "cells": [
    {
      "cell_type": "markdown",
      "metadata": {
        "id": "view-in-github",
        "colab_type": "text"
      },
      "source": [
        "<a href=\"https://colab.research.google.com/github/jrim42/plant_bacteriology_lab/blob/main/Expr2_bacterial_growth.ipynb\" target=\"_parent\"><img src=\"https://colab.research.google.com/assets/colab-badge.svg\" alt=\"Open In Colab\"/></a>"
      ]
    },
    {
      "cell_type": "code",
      "execution_count": 1,
      "metadata": {
        "colab": {
          "base_uri": "https://localhost:8080/"
        },
        "id": "P_IYfH7likAg",
        "outputId": "19e6bf60-9f3c-4a78-9dd2-c3b086a073f4"
      },
      "outputs": [
        {
          "output_type": "stream",
          "name": "stdout",
          "text": [
            "Collecting scikit-posthocs\n",
            "  Downloading scikit_posthocs-0.8.0-py3-none-any.whl (32 kB)\n",
            "Requirement already satisfied: numpy in /usr/local/lib/python3.10/dist-packages (from scikit-posthocs) (1.23.5)\n",
            "Requirement already satisfied: scipy in /usr/local/lib/python3.10/dist-packages (from scikit-posthocs) (1.11.3)\n",
            "Requirement already satisfied: statsmodels in /usr/local/lib/python3.10/dist-packages (from scikit-posthocs) (0.14.0)\n",
            "Requirement already satisfied: pandas>=0.20.0 in /usr/local/lib/python3.10/dist-packages (from scikit-posthocs) (1.5.3)\n",
            "Requirement already satisfied: seaborn in /usr/local/lib/python3.10/dist-packages (from scikit-posthocs) (0.12.2)\n",
            "Requirement already satisfied: matplotlib in /usr/local/lib/python3.10/dist-packages (from scikit-posthocs) (3.7.1)\n",
            "Requirement already satisfied: python-dateutil>=2.8.1 in /usr/local/lib/python3.10/dist-packages (from pandas>=0.20.0->scikit-posthocs) (2.8.2)\n",
            "Requirement already satisfied: pytz>=2020.1 in /usr/local/lib/python3.10/dist-packages (from pandas>=0.20.0->scikit-posthocs) (2023.3.post1)\n",
            "Requirement already satisfied: contourpy>=1.0.1 in /usr/local/lib/python3.10/dist-packages (from matplotlib->scikit-posthocs) (1.2.0)\n",
            "Requirement already satisfied: cycler>=0.10 in /usr/local/lib/python3.10/dist-packages (from matplotlib->scikit-posthocs) (0.12.1)\n",
            "Requirement already satisfied: fonttools>=4.22.0 in /usr/local/lib/python3.10/dist-packages (from matplotlib->scikit-posthocs) (4.44.3)\n",
            "Requirement already satisfied: kiwisolver>=1.0.1 in /usr/local/lib/python3.10/dist-packages (from matplotlib->scikit-posthocs) (1.4.5)\n",
            "Requirement already satisfied: packaging>=20.0 in /usr/local/lib/python3.10/dist-packages (from matplotlib->scikit-posthocs) (23.2)\n",
            "Requirement already satisfied: pillow>=6.2.0 in /usr/local/lib/python3.10/dist-packages (from matplotlib->scikit-posthocs) (9.4.0)\n",
            "Requirement already satisfied: pyparsing>=2.3.1 in /usr/local/lib/python3.10/dist-packages (from matplotlib->scikit-posthocs) (3.1.1)\n",
            "Requirement already satisfied: patsy>=0.5.2 in /usr/local/lib/python3.10/dist-packages (from statsmodels->scikit-posthocs) (0.5.3)\n",
            "Requirement already satisfied: six in /usr/local/lib/python3.10/dist-packages (from patsy>=0.5.2->statsmodels->scikit-posthocs) (1.16.0)\n",
            "Installing collected packages: scikit-posthocs\n",
            "Successfully installed scikit-posthocs-0.8.0\n"
          ]
        }
      ],
      "source": [
        "!pip install scikit-posthocs\n",
        "\n",
        "import pandas as pd\n",
        "import numpy as np\n",
        "import re\n",
        "import matplotlib.pyplot as plt\n",
        "from scipy import stats\n",
        "from scipy.stats import mannwhitneyu\n",
        "from scipy.stats import sem\n",
        "from scipy.stats import friedmanchisquare\n",
        "from scipy.stats import kruskal\n",
        "from scikit_posthocs import posthoc_dunn"
      ]
    },
    {
      "cell_type": "code",
      "source": [
        "import math\n",
        "from scipy.stats import ttest_ind"
      ],
      "metadata": {
        "id": "ZO7DygHSoywO"
      },
      "execution_count": 2,
      "outputs": []
    },
    {
      "cell_type": "markdown",
      "source": [
        "---\n",
        "## growth of day 0"
      ],
      "metadata": {
        "id": "tK6_JadWli0T"
      }
    },
    {
      "cell_type": "code",
      "source": [
        "day0_raw_ctrl = [4, 6, 2, 5]\n",
        "day0_raw_agro = [9, 8, 4, 7]\n",
        "\n",
        "day0_CFU_ctrl = [x * 100 for x in day0_raw_ctrl]  # [400, 600, 200, 500]\n",
        "day0_CFU_agro = [x * 100 for x in day0_raw_agro]  # [900, 800, 400, 700]\n",
        "\n",
        "day0_res_ctrl = math.log10(sum(day0_CFU_ctrl))\n",
        "day0_res_agro = math.log10(sum(day0_CFU_agro))\n",
        "\n",
        "print(\"log10(ctrl): \", day0_res_ctrl)\n",
        "print(\"log10(agro): \", day0_res_agro)"
      ],
      "metadata": {
        "colab": {
          "base_uri": "https://localhost:8080/"
        },
        "id": "M5E42CQ4odpT",
        "outputId": "d3f19597-8e0a-4781-c1cf-139393e036bd"
      },
      "execution_count": 3,
      "outputs": [
        {
          "output_type": "stream",
          "name": "stdout",
          "text": [
            "log10(ctrl):  3.230448921378274\n",
            "log10(agro):  3.4471580313422194\n"
          ]
        }
      ]
    },
    {
      "cell_type": "markdown",
      "source": [
        "---\n",
        "## growth of day 2"
      ],
      "metadata": {
        "id": "4kkUKHsslo3Q"
      }
    },
    {
      "cell_type": "code",
      "source": [
        "# C1: [81, 10, 3, 1, 0, 0]\n",
        "# C2: [85, 15, 5, 7, 0, 0]\n",
        "# C3: [6,  1,  0, 0, 0, 0]\n",
        "# C4: [NA, 29, 2, 0, 0, 1]\n",
        "# A1: [3,  0,  0, 0, 0, 0]\n",
        "# A2: [1,  1,  0, 0, 0, 0]\n",
        "# A3: [2,  0,  0, 0, 0, 0]\n",
        "# A4: [6,  0,  0, 0, 1, 0]\n",
        "\n",
        "DF = [10, 100, 1000, 10000, 100000, 1000000]\n",
        "\n",
        "day2_raw_ctrl_DF1 = [81, 85, 6, 29]\n",
        "day2_raw_ctrl_DF2 = [10, 15, 1, 29]\n",
        "day2_raw_ctrl_DF3 = [3, 5, 0, 2]\n",
        "day2_raw_ctrl_DF4 = [1, 7, 0, 0]\n",
        "day2_raw_ctrl_DF5 = [0, 0, 0, 0]\n",
        "day2_raw_ctrl_DF6 = [0, 0, 0, 1]\n",
        "\n",
        "day2_raw_agro_DF1 = [3, 1, 2, 6]\n",
        "day2_raw_agro_DF2 = [0, 1, 0, 0]\n",
        "day2_raw_agro_DF3 = [0, 0, 0, 0]\n",
        "day2_raw_agro_DF4 = [0, 0, 0, 0]\n",
        "day2_raw_agro_DF5 = [0, 0, 0, 1]\n",
        "day2_raw_agro_DF6 = [0, 0, 0, 0]"
      ],
      "metadata": {
        "id": "FtD4r5WdkLFs"
      },
      "execution_count": 4,
      "outputs": []
    },
    {
      "cell_type": "code",
      "source": [
        "day2_CFU_ctrl = [x * 200 * DF[1] for x in day2_raw_ctrl_DF2]  # [200000, 300000, 20000, 580000]\n",
        "day2_CFU_agro = [x * 200 * DF[1] for x in day2_raw_agro_DF2]  # [0, 20000, 0, 0]\n",
        "\n",
        "day2_res_ctrl_DF2 = math.log10(sum(day2_CFU_ctrl))\n",
        "day2_res_agro_DF2 = math.log10(sum(day2_CFU_agro))\n",
        "\n",
        "print(\"log10(ctrl): \", day2_res_ctrl_DF2)\n",
        "print(\"log10(agro): \", day2_res_agro_DF2)"
      ],
      "metadata": {
        "colab": {
          "base_uri": "https://localhost:8080/"
        },
        "id": "6VlxLsERtQNO",
        "outputId": "d00171ce-146f-4910-8312-2aece9bc2a8e"
      },
      "execution_count": 5,
      "outputs": [
        {
          "output_type": "stream",
          "name": "stdout",
          "text": [
            "log10(ctrl):  6.041392685158225\n",
            "log10(agro):  4.301029995663981\n"
          ]
        }
      ]
    },
    {
      "cell_type": "code",
      "source": [
        "# labels = ['day0 control', 'day0 agro', 'day2 control', 'day2 agro']\n",
        "# values = [day0_res_ctrl, day0_res_agro, day2_res_ctrl_DF2, day2_res_agro_DF2]\n",
        "labels = ['day0 control', 'day2 control', 'day0 agro', 'day2 agro']\n",
        "values = [day0_res_ctrl, day2_res_ctrl_DF2, day0_res_agro, day2_res_agro_DF2]\n",
        "\n",
        "fig, ax = plt.subplots()\n",
        "\n",
        "# ax.set_title('Bacterial Growth in N.Benthamiana')\n",
        "ax.bar(labels, values, color=['#669bbc', '#669bbc', '#f4a261', '#f4a261'], width=0.6)\n",
        "ax.set_ylabel('Log10 (cfu/mL)', labelpad=10)\n",
        "ax.set_yticks(range(0, 9, 2))\n",
        "ax.tick_params(axis='y', which='both', left=False, right=False, labelleft=True)\n",
        "ax.grid(axis='y', linestyle='-', alpha=0.5)\n",
        "\n",
        "for i, v in enumerate(values):\n",
        "    ax.text(i, v + 0.1, f'{v:.2f}', ha='center', va='bottom', fontsize=8)\n",
        "\n",
        "ax.spines['right'].set_visible(False)\n",
        "ax.spines['left'].set_visible(False)\n",
        "ax.spines['top'].set_visible(False)\n",
        "\n",
        "plt.show()"
      ],
      "metadata": {
        "colab": {
          "base_uri": "https://localhost:8080/",
          "height": 435
        },
        "id": "1KNF9E8muSVT",
        "outputId": "ae0f19b0-21b9-46d6-fe72-d944b21fb8a8"
      },
      "execution_count": 20,
      "outputs": [
        {
          "output_type": "display_data",
          "data": {
            "text/plain": [
              "<Figure size 640x480 with 1 Axes>"
            ],
            "image/png": "[encoded data removed]"
          },
          "metadata": {}
        }
      ]
    },
    {
      "cell_type": "markdown",
      "source": [
        "---\n",
        "### statistical analysis"
      ],
      "metadata": {
        "id": "ya3dGjs6K38Q"
      }
    },
    {
      "cell_type": "code",
      "source": [
        "# day0 control (vs) day0 agro\n",
        "day0_res = mannwhitneyu(day0_CFU_ctrl, day0_CFU_agro)\n",
        "print(\"p-value:\", day0_res.pvalue)\n",
        "\n",
        "if day0_res.pvalue < 0.05:\n",
        "    print(\"> significant difference\")\n",
        "else:\n",
        "    print(\"> NO significant difference\")"
      ],
      "metadata": {
        "colab": {
          "base_uri": "https://localhost:8080/"
        },
        "id": "R2gA46Bgv5lh",
        "outputId": "9eeea5e5-dc5d-42d0-e3f3-44441061e0b5"
      },
      "execution_count": 7,
      "outputs": [
        {
          "output_type": "stream",
          "name": "stdout",
          "text": [
            "p-value: 0.14648918393520854\n",
            "> NO significant difference\n"
          ]
        }
      ]
    },
    {
      "cell_type": "code",
      "source": [
        "# day2 control (vs) day2 agro\n",
        "day2_res = mannwhitneyu(day2_CFU_ctrl, day2_CFU_agro)\n",
        "print(\"p-value:\", day2_res.pvalue)\n",
        "\n",
        "if day2_res.pvalue < 0.05:\n",
        "    print(\"> significant difference\")\n",
        "else:\n",
        "    print(\"> NO significant difference\")"
      ],
      "metadata": {
        "colab": {
          "base_uri": "https://localhost:8080/"
        },
        "id": "xDp4Mh-bv-OL",
        "outputId": "0130118f-e8b3-4b25-e66e-f842480e6d06"
      },
      "execution_count": 8,
      "outputs": [
        {
          "output_type": "stream",
          "name": "stdout",
          "text": [
            "p-value: 0.037188196733455664\n",
            "> significant difference\n"
          ]
        }
      ]
    },
    {
      "cell_type": "code",
      "source": [
        "# day0 control (vs) day2 control\n",
        "day2_res = mannwhitneyu(day0_CFU_ctrl, day2_CFU_ctrl)\n",
        "print(\"p-value:\", day2_res.pvalue)\n",
        "\n",
        "if day2_res.pvalue < 0.05:\n",
        "    print(\"> significant difference\")\n",
        "else:\n",
        "    print(\"> NO significant difference\")"
      ],
      "metadata": {
        "colab": {
          "base_uri": "https://localhost:8080/"
        },
        "id": "obhU97OKVDGO",
        "outputId": "89488b6a-ff9d-4a45-88ff-9f9306193da1"
      },
      "execution_count": 9,
      "outputs": [
        {
          "output_type": "stream",
          "name": "stdout",
          "text": [
            "p-value: 0.02857142857142857\n",
            "> significant difference\n"
          ]
        }
      ]
    },
    {
      "cell_type": "code",
      "source": [
        "# day0 agro (vs) day2 agro\n",
        "day2_res = mannwhitneyu(day0_CFU_agro, day2_CFU_agro)\n",
        "print(\"p-value:\", day2_res.pvalue)\n",
        "\n",
        "if day2_res.pvalue < 0.05:\n",
        "    print(\"> significant difference\")\n",
        "else:\n",
        "    print(\"> NO significant difference\")"
      ],
      "metadata": {
        "colab": {
          "base_uri": "https://localhost:8080/"
        },
        "id": "2j8HZo-OVIK-",
        "outputId": "69c3d8da-4e51-4d87-f7e7-9a93319d6452"
      },
      "execution_count": 10,
      "outputs": [
        {
          "output_type": "stream",
          "name": "stdout",
          "text": [
            "p-value: 0.30052231149547204\n",
            "> NO significant difference\n"
          ]
        }
      ]
    }
  ]
}