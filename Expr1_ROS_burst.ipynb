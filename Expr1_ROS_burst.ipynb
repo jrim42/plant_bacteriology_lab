{
  "nbformat": 4,
  "nbformat_minor": 0,
  "metadata": {
    "colab": {
      "provenance": [],
      "mount_file_id": "1tN6KPSDVRRjdPxb35EgqnSo27XjZZ6YW",
      "authorship_tag": "ABX9TyOa3vqONjZt/gIwpWgiVQRz",
      "include_colab_link": true
    },
    "kernelspec": {
      "name": "python3",
      "display_name": "Python 3"
    },
    "language_info": {
      "name": "python"
    }
  },
  "cells": [
    {
      "cell_type": "markdown",
      "metadata": {
        "id": "view-in-github",
        "colab_type": "text"
      },
      "source": [
        "<a href=\"https://colab.research.google.com/github/jrim42/plant_bacteriology_lab/blob/main/Expr1_ROS_burst.ipynb\" target=\"_parent\"><img src=\"https://colab.research.google.com/assets/colab-badge.svg\" alt=\"Open In Colab\"/></a>"
      ]
    },
    {
      "cell_type": "code",
      "source": [
        "!pip install scikit-posthocs"
      ],
      "metadata": {
        "colab": {
          "base_uri": "https://localhost:8080/"
        },
        "id": "b7G3XLxPRRZ8",
        "outputId": "f92caba2-4ddb-49af-e9d3-a6fbe7ed6200"
      },
      "execution_count": null,
      "outputs": [
        {
          "output_type": "stream",
          "name": "stdout",
          "text": [
            "Collecting scikit-posthocs\n",
            "  Downloading scikit_posthocs-0.8.0-py3-none-any.whl (32 kB)\n",
            "Requirement already satisfied: numpy in /usr/local/lib/python3.10/dist-packages (from scikit-posthocs) (1.23.5)\n",
            "Requirement already satisfied: scipy in /usr/local/lib/python3.10/dist-packages (from scikit-posthocs) (1.11.3)\n",
            "Requirement already satisfied: statsmodels in /usr/local/lib/python3.10/dist-packages (from scikit-posthocs) (0.14.0)\n",
            "Requirement already satisfied: pandas>=0.20.0 in /usr/local/lib/python3.10/dist-packages (from scikit-posthocs) (1.5.3)\n",
            "Requirement already satisfied: seaborn in /usr/local/lib/python3.10/dist-packages (from scikit-posthocs) (0.12.2)\n",
            "Requirement already satisfied: matplotlib in /usr/local/lib/python3.10/dist-packages (from scikit-posthocs) (3.7.1)\n",
            "Requirement already satisfied: python-dateutil>=2.8.1 in /usr/local/lib/python3.10/dist-packages (from pandas>=0.20.0->scikit-posthocs) (2.8.2)\n",
            "Requirement already satisfied: pytz>=2020.1 in /usr/local/lib/python3.10/dist-packages (from pandas>=0.20.0->scikit-posthocs) (2023.3.post1)\n",
            "Requirement already satisfied: contourpy>=1.0.1 in /usr/local/lib/python3.10/dist-packages (from matplotlib->scikit-posthocs) (1.2.0)\n",
            "Requirement already satisfied: cycler>=0.10 in /usr/local/lib/python3.10/dist-packages (from matplotlib->scikit-posthocs) (0.12.1)\n",
            "Requirement already satisfied: fonttools>=4.22.0 in /usr/local/lib/python3.10/dist-packages (from matplotlib->scikit-posthocs) (4.44.3)\n",
            "Requirement already satisfied: kiwisolver>=1.0.1 in /usr/local/lib/python3.10/dist-packages (from matplotlib->scikit-posthocs) (1.4.5)\n",
            "Requirement already satisfied: packaging>=20.0 in /usr/local/lib/python3.10/dist-packages (from matplotlib->scikit-posthocs) (23.2)\n",
            "Requirement already satisfied: pillow>=6.2.0 in /usr/local/lib/python3.10/dist-packages (from matplotlib->scikit-posthocs) (9.4.0)\n",
            "Requirement already satisfied: pyparsing>=2.3.1 in /usr/local/lib/python3.10/dist-packages (from matplotlib->scikit-posthocs) (3.1.1)\n",
            "Requirement already satisfied: patsy>=0.5.2 in /usr/local/lib/python3.10/dist-packages (from statsmodels->scikit-posthocs) (0.5.3)\n",
            "Requirement already satisfied: six in /usr/local/lib/python3.10/dist-packages (from patsy>=0.5.2->statsmodels->scikit-posthocs) (1.16.0)\n",
            "Installing collected packages: scikit-posthocs\n",
            "Successfully installed scikit-posthocs-0.8.0\n"
          ]
        }
      ]
    },
    {
      "cell_type": "code",
      "source": [
        "import pandas as pd\n",
        "import numpy as np\n",
        "import re\n",
        "import matplotlib.pyplot as plt\n",
        "from scipy import stats\n",
        "from scipy.stats import mannwhitneyu\n",
        "from scipy.stats import sem\n",
        "from scipy.stats import friedmanchisquare\n",
        "from scipy.stats import kruskal\n",
        "from scikit_posthocs import posthoc_dunn"
      ],
      "metadata": {
        "id": "21eqSGxDPuUD"
      },
      "execution_count": null,
      "outputs": []
    },
    {
      "cell_type": "code",
      "execution_count": null,
      "metadata": {
        "id": "e2mst6nQM-1O"
      },
      "outputs": [],
      "source": [
        "f = open('./drive/MyDrive/coding/plant_bacteriology/expr1.txt', 'r', encoding=\"cp949\")\n",
        "raw_data = f.readlines()"
      ]
    },
    {
      "cell_type": "code",
      "source": [
        "keyword = \"General Data\"\n",
        "\n",
        "data = []\n",
        "skip_section = False\n",
        "\n",
        "for line in raw_data:\n",
        "    if keyword in line:\n",
        "        # If the keyword is found, set the flag to skip the section\n",
        "        skip_section = True\n",
        "    elif not skip_section:\n",
        "        # If the flag is not set, add the line to the new data\n",
        "        data.append(line)"
      ],
      "metadata": {
        "id": "wZzQCvevQ4ZT"
      },
      "execution_count": null,
      "outputs": []
    },
    {
      "cell_type": "code",
      "source": [
        "sections = []\n",
        "tables = []\n",
        "\n",
        "cur_section = []\n",
        "\n",
        "for line in data:\n",
        "    if \"Default [ RLU ], Time :\" in line:\n",
        "        # If a new section begins, store the current section and start a new one\n",
        "        if cur_section:\n",
        "            sections.append(cur_section)\n",
        "        cur_section = [line]\n",
        "    else:\n",
        "        cur_section.append(line)\n",
        "\n",
        "# Append the last section\n",
        "if cur_section:\n",
        "    sections.append(cur_section)\n",
        "\n",
        "# Process and store the separated tables\n",
        "for section in sections:\n",
        "    header = section[0].strip()\n",
        "    match = re.search(r\"Time\\s*:\\s*(\\d+)\", header)\n",
        "    time_value = int(match.group(1))\n",
        "\n",
        "    # Extract numerical values and create a 12x8 table\n",
        "    table = []\n",
        "    for line in section[1:]:\n",
        "        values = list(map(int, line.split()))\n",
        "        if any(values):\n",
        "            table.append(values)\n",
        "\n",
        "    # Transpose the table to work on columns\n",
        "    transposed_table = list(map(list, zip(*table)))\n",
        "\n",
        "    # Remove columns with all zero values\n",
        "    filtered_table = [col for col in transposed_table if any(col)]\n",
        "\n",
        "    # Transpose the table back\n",
        "    filtered_table = list(map(list, zip(*filtered_table)))\n",
        "\n",
        "    # Append the table to the list of tables\n",
        "    tables.append({\"time\": time_value, \"table\": filtered_table})"
      ],
      "metadata": {
        "id": "fInr0LVPQ56w"
      },
      "execution_count": null,
      "outputs": []
    },
    {
      "cell_type": "code",
      "source": [
        "new_tables = []\n",
        "\n",
        "for table in tables:\n",
        "    new_table = {\n",
        "        'time': table['time'],\n",
        "        'ctrl_water': table['table'][0],\n",
        "        'ctrl_flg22': table['table'][1],\n",
        "        'c_flg22': table['table'][4]\n",
        "    }\n",
        "    new_tables.append(new_table)"
      ],
      "metadata": {
        "id": "0wbT47ESVPaw"
      },
      "execution_count": null,
      "outputs": []
    },
    {
      "cell_type": "code",
      "source": [
        "tb1 = {}\n",
        "tb2 = {}\n",
        "tb3 = {}\n",
        "\n",
        "for new_table in new_tables:\n",
        "    time = new_table['time']\n",
        "    tb1[time] = new_table['ctrl_water']\n",
        "\n",
        "for new_table in new_tables:\n",
        "    time = new_table['time']\n",
        "    tb2[time] = new_table['ctrl_flg22']\n",
        "\n",
        "for new_table in new_tables:\n",
        "    time = new_table['time']\n",
        "    tb3[time] = new_table['c_flg22']"
      ],
      "metadata": {
        "id": "nJrhNMcKfpby"
      },
      "execution_count": null,
      "outputs": []
    },
    {
      "cell_type": "code",
      "source": [
        "res1 = {}\n",
        "res2 = {}\n",
        "res3 = {}\n",
        "\n",
        "# std_error는 모집단이 정규분포를 갖는다는 전제를 하지 않는다.\n",
        "# SD의 경우 모집단이 정규분포를 갖는다는 전제 (모집단 크기가 30 이상은 되어야함)\n",
        "for time, values in tb1.items():\n",
        "  mean_value = round(np.mean(values), 2)\n",
        "  std_error = round(sem(values), 2)\n",
        "  res1[time] = {'mean': mean_value, 'std_error': std_error}\n",
        "\n",
        "for time, values in tb2.items():\n",
        "  mean_value = round(np.mean(values), 2)\n",
        "  std_error = round(sem(values), 2)\n",
        "  res2[time] = {'mean': mean_value, 'std_error': std_error}\n",
        "\n",
        "for time, values in tb3.items():\n",
        "  mean_value = round(np.mean(values), 3)\n",
        "  std_error = round(sem(values), 2)\n",
        "  res3[time] = {'mean': mean_value, 'std_error': std_error}"
      ],
      "metadata": {
        "id": "6bW1wPy9irtJ"
      },
      "execution_count": null,
      "outputs": []
    },
    {
      "cell_type": "code",
      "source": [
        "print(res1)\n",
        "print(res2)\n",
        "print(res3)"
      ],
      "metadata": {
        "colab": {
          "base_uri": "https://localhost:8080/"
        },
        "id": "8Ad4d5hFjRza",
        "outputId": "6094af3c-3337-4cdf-8ca1-232d046e4996"
      },
      "execution_count": null,
      "outputs": [
        {
          "output_type": "stream",
          "name": "stdout",
          "text": [
            "{0: {'mean': 1413.62, 'std_error': 271.96}, 120: {'mean': 1223.5, 'std_error': 250.21}, 240: {'mean': 1148.25, 'std_error': 230.41}, 361: {'mean': 1067.38, 'std_error': 196.65}, 481: {'mean': 951.25, 'std_error': 135.63}, 601: {'mean': 904.0, 'std_error': 131.96}, 722: {'mean': 900.88, 'std_error': 154.18}, 842: {'mean': 919.25, 'std_error': 194.44}, 962: {'mean': 927.5, 'std_error': 222.03}, 1083: {'mean': 948.62, 'std_error': 262.26}, 1203: {'mean': 930.38, 'std_error': 252.76}, 1323: {'mean': 912.38, 'std_error': 230.77}, 1444: {'mean': 881.62, 'std_error': 241.43}, 1564: {'mean': 881.38, 'std_error': 238.49}, 1684: {'mean': 813.0, 'std_error': 198.96}, 1805: {'mean': 785.12, 'std_error': 177.12}}\n",
            "{0: {'mean': 1746.25, 'std_error': 386.5}, 120: {'mean': 1806.25, 'std_error': 268.86}, 240: {'mean': 2848.38, 'std_error': 358.44}, 361: {'mean': 3910.5, 'std_error': 624.16}, 481: {'mean': 5109.5, 'std_error': 914.57}, 601: {'mean': 6122.5, 'std_error': 1213.75}, 722: {'mean': 7505.0, 'std_error': 1459.32}, 842: {'mean': 8487.62, 'std_error': 1629.87}, 962: {'mean': 9273.25, 'std_error': 1795.11}, 1083: {'mean': 10035.0, 'std_error': 1817.35}, 1203: {'mean': 10340.88, 'std_error': 1834.89}, 1323: {'mean': 10138.12, 'std_error': 1701.25}, 1444: {'mean': 9555.38, 'std_error': 1555.23}, 1564: {'mean': 9056.25, 'std_error': 1471.97}, 1684: {'mean': 8532.0, 'std_error': 1352.96}, 1805: {'mean': 7988.25, 'std_error': 1262.27}}\n",
            "{0: {'mean': 1818.75, 'std_error': 219.08}, 120: {'mean': 3682.625, 'std_error': 355.4}, 240: {'mean': 7601.125, 'std_error': 851.52}, 361: {'mean': 11491.25, 'std_error': 1467.76}, 481: {'mean': 14067.875, 'std_error': 1794.26}, 601: {'mean': 14521.0, 'std_error': 1835.28}, 722: {'mean': 14446.5, 'std_error': 1577.79}, 842: {'mean': 14173.875, 'std_error': 1382.74}, 962: {'mean': 13771.25, 'std_error': 1309.75}, 1083: {'mean': 13364.625, 'std_error': 1308.77}, 1203: {'mean': 12812.25, 'std_error': 1391.75}, 1323: {'mean': 11913.375, 'std_error': 1318.67}, 1444: {'mean': 11399.25, 'std_error': 1511.18}, 1564: {'mean': 11027.125, 'std_error': 1420.66}, 1684: {'mean': 10595.125, 'std_error': 1340.17}, 1805: {'mean': 10427.25, 'std_error': 1295.33}}\n"
          ]
        }
      ]
    },
    {
      "cell_type": "code",
      "source": [
        "mean_lst1 = [value['mean'] for key, value in res1.items()]\n",
        "mean_lst2 = [value['mean'] for key, value in res2.items()]\n",
        "mean_lst3 = [value['mean'] for key, value in res3.items()]\n",
        "\n",
        "print(\"control + water: \", mean_lst1)\n",
        "print(\"control + flg22: \", mean_lst2)\n",
        "print(\"group C + flg22: \", mean_lst3)"
      ],
      "metadata": {
        "colab": {
          "base_uri": "https://localhost:8080/"
        },
        "id": "02DbJNCFy0V7",
        "outputId": "2eb202d7-0910-4aab-e31a-4a89f6ca39c9"
      },
      "execution_count": null,
      "outputs": [
        {
          "output_type": "stream",
          "name": "stdout",
          "text": [
            "control + water:  [1413.62, 1223.5, 1148.25, 1067.38, 951.25, 904.0, 900.88, 919.25, 927.5, 948.62, 930.38, 912.38, 881.62, 881.38, 813.0, 785.12]\n",
            "control + flg22:  [1746.25, 1806.25, 2848.38, 3910.5, 5109.5, 6122.5, 7505.0, 8487.62, 9273.25, 10035.0, 10340.88, 10138.12, 9555.38, 9056.25, 8532.0, 7988.25]\n",
            "group C + flg22:  [1818.75, 3682.625, 7601.125, 11491.25, 14067.875, 14521.0, 14446.5, 14173.875, 13771.25, 13364.625, 12812.25, 11913.375, 11399.25, 11027.125, 10595.125, 10427.25]\n"
          ]
        }
      ]
    },
    {
      "cell_type": "code",
      "source": [
        "df = pd.DataFrame(\n",
        "    {'control + water': mean_lst1,\n",
        "    'control + flg22': mean_lst2,\n",
        "    'group C + flg22': mean_lst3},\n",
        "    index = [i for i in range(0, 31, 2)]\n",
        "    )\n",
        "\n",
        "df"
      ],
      "metadata": {
        "colab": {
          "base_uri": "https://localhost:8080/",
          "height": 551
        },
        "id": "WxWCwGk4rk0d",
        "outputId": "e67c4ed1-b6d0-4437-a3e9-b6ded64c0676"
      },
      "execution_count": null,
      "outputs": [
        {
          "output_type": "execute_result",
          "data": {
            "text/plain": [
              "    control + water  control + flg22  group C + flg22\n",
              "0           1413.62          1746.25         1818.750\n",
              "2           1223.50          1806.25         3682.625\n",
              "4           1148.25          2848.38         7601.125\n",
              "6           1067.38          3910.50        11491.250\n",
              "8            951.25          5109.50        14067.875\n",
              "10           904.00          6122.50        14521.000\n",
              "12           900.88          7505.00        14446.500\n",
              "14           919.25          8487.62        14173.875\n",
              "16           927.50          9273.25        13771.250\n",
              "18           948.62         10035.00        13364.625\n",
              "20           930.38         10340.88        12812.250\n",
              "22           912.38         10138.12        11913.375\n",
              "24           881.62          9555.38        11399.250\n",
              "26           881.38          9056.25        11027.125\n",
              "28           813.00          8532.00        10595.125\n",
              "30           785.12          7988.25        10427.250"
            ],
            "text/html": [
              "\n",
              "  <div id=\"df-faedfa35-ad62-4069-a6ae-d2935faea17f\" class=\"colab-df-container\">\n",
              "    <div>\n",
              "<style scoped>\n",
              "    .dataframe tbody tr th:only-of-type {\n",
              "        vertical-align: middle;\n",
              "    }\n",
              "\n",
              "    .dataframe tbody tr th {\n",
              "        vertical-align: top;\n",
              "    }\n",
              "\n",
              "    .dataframe thead th {\n",
              "        text-align: right;\n",
              "    }\n",
              "</style>\n",
              "<table border=\"1\" class=\"dataframe\">\n",
              "  <thead>\n",
              "    <tr style=\"text-align: right;\">\n",
              "      <th></th>\n",
              "      <th>control + water</th>\n",
              "      <th>control + flg22</th>\n",
              "      <th>group C + flg22</th>\n",
              "    </tr>\n",
              "  </thead>\n",
              "  <tbody>\n",
              "    <tr>\n",
              "      <th>0</th>\n",
              "      <td>1413.62</td>\n",
              "      <td>1746.25</td>\n",
              "      <td>1818.750</td>\n",
              "    </tr>\n",
              "    <tr>\n",
              "      <th>2</th>\n",
              "      <td>1223.50</td>\n",
              "      <td>1806.25</td>\n",
              "      <td>3682.625</td>\n",
              "    </tr>\n",
              "    <tr>\n",
              "      <th>4</th>\n",
              "      <td>1148.25</td>\n",
              "      <td>2848.38</td>\n",
              "      <td>7601.125</td>\n",
              "    </tr>\n",
              "    <tr>\n",
              "      <th>6</th>\n",
              "      <td>1067.38</td>\n",
              "      <td>3910.50</td>\n",
              "      <td>11491.250</td>\n",
              "    </tr>\n",
              "    <tr>\n",
              "      <th>8</th>\n",
              "      <td>951.25</td>\n",
              "      <td>5109.50</td>\n",
              "      <td>14067.875</td>\n",
              "    </tr>\n",
              "    <tr>\n",
              "      <th>10</th>\n",
              "      <td>904.00</td>\n",
              "      <td>6122.50</td>\n",
              "      <td>14521.000</td>\n",
              "    </tr>\n",
              "    <tr>\n",
              "      <th>12</th>\n",
              "      <td>900.88</td>\n",
              "      <td>7505.00</td>\n",
              "      <td>14446.500</td>\n",
              "    </tr>\n",
              "    <tr>\n",
              "      <th>14</th>\n",
              "      <td>919.25</td>\n",
              "      <td>8487.62</td>\n",
              "      <td>14173.875</td>\n",
              "    </tr>\n",
              "    <tr>\n",
              "      <th>16</th>\n",
              "      <td>927.50</td>\n",
              "      <td>9273.25</td>\n",
              "      <td>13771.250</td>\n",
              "    </tr>\n",
              "    <tr>\n",
              "      <th>18</th>\n",
              "      <td>948.62</td>\n",
              "      <td>10035.00</td>\n",
              "      <td>13364.625</td>\n",
              "    </tr>\n",
              "    <tr>\n",
              "      <th>20</th>\n",
              "      <td>930.38</td>\n",
              "      <td>10340.88</td>\n",
              "      <td>12812.250</td>\n",
              "    </tr>\n",
              "    <tr>\n",
              "      <th>22</th>\n",
              "      <td>912.38</td>\n",
              "      <td>10138.12</td>\n",
              "      <td>11913.375</td>\n",
              "    </tr>\n",
              "    <tr>\n",
              "      <th>24</th>\n",
              "      <td>881.62</td>\n",
              "      <td>9555.38</td>\n",
              "      <td>11399.250</td>\n",
              "    </tr>\n",
              "    <tr>\n",
              "      <th>26</th>\n",
              "      <td>881.38</td>\n",
              "      <td>9056.25</td>\n",
              "      <td>11027.125</td>\n",
              "    </tr>\n",
              "    <tr>\n",
              "      <th>28</th>\n",
              "      <td>813.00</td>\n",
              "      <td>8532.00</td>\n",
              "      <td>10595.125</td>\n",
              "    </tr>\n",
              "    <tr>\n",
              "      <th>30</th>\n",
              "      <td>785.12</td>\n",
              "      <td>7988.25</td>\n",
              "      <td>10427.250</td>\n",
              "    </tr>\n",
              "  </tbody>\n",
              "</table>\n",
              "</div>\n",
              "    <div class=\"colab-df-buttons\">\n",
              "\n",
              "  <div class=\"colab-df-container\">\n",
              "    <button class=\"colab-df-convert\" onclick=\"convertToInteractive('df-faedfa35-ad62-4069-a6ae-d2935faea17f')\"\n",
              "            title=\"Convert this dataframe to an interactive table.\"\n",
              "            style=\"display:none;\">\n",
              "\n",
              "  <svg xmlns=\"http://www.w3.org/2000/svg\" height=\"24px\" viewBox=\"0 -960 960 960\">\n",
              "    <path d=\"M120-120v-720h720v720H120Zm60-500h600v-160H180v160Zm220 220h160v-160H400v160Zm0 220h160v-160H400v160ZM180-400h160v-160H180v160Zm440 0h160v-160H620v160ZM180-180h160v-160H180v160Zm440 0h160v-160H620v160Z\"/>\n",
              "  </svg>\n",
              "    </button>\n",
              "\n",
              "  <style>\n",
              "    .colab-df-container {\n",
              "      display:flex;\n",
              "      gap: 12px;\n",
              "    }\n",
              "\n",
              "    .colab-df-convert {\n",
              "      background-color: #E8F0FE;\n",
              "      border: none;\n",
              "      border-radius: 50%;\n",
              "      cursor: pointer;\n",
              "      display: none;\n",
              "      fill: #1967D2;\n",
              "      height: 32px;\n",
              "      padding: 0 0 0 0;\n",
              "      width: 32px;\n",
              "    }\n",
              "\n",
              "    .colab-df-convert:hover {\n",
              "      background-color: #E2EBFA;\n",
              "      box-shadow: 0px 1px 2px rgba(60, 64, 67, 0.3), 0px 1px 3px 1px rgba(60, 64, 67, 0.15);\n",
              "      fill: #174EA6;\n",
              "    }\n",
              "\n",
              "    .colab-df-buttons div {\n",
              "      margin-bottom: 4px;\n",
              "    }\n",
              "\n",
              "    [theme=dark] .colab-df-convert {\n",
              "      background-color: #3B4455;\n",
              "      fill: #D2E3FC;\n",
              "    }\n",
              "\n",
              "    [theme=dark] .colab-df-convert:hover {\n",
              "      background-color: #434B5C;\n",
              "      box-shadow: 0px 1px 3px 1px rgba(0, 0, 0, 0.15);\n",
              "      filter: drop-shadow(0px 1px 2px rgba(0, 0, 0, 0.3));\n",
              "      fill: #FFFFFF;\n",
              "    }\n",
              "  </style>\n",
              "\n",
              "    <script>\n",
              "      const buttonEl =\n",
              "        document.querySelector('#df-faedfa35-ad62-4069-a6ae-d2935faea17f button.colab-df-convert');\n",
              "      buttonEl.style.display =\n",
              "        google.colab.kernel.accessAllowed ? 'block' : 'none';\n",
              "\n",
              "      async function convertToInteractive(key) {\n",
              "        const element = document.querySelector('#df-faedfa35-ad62-4069-a6ae-d2935faea17f');\n",
              "        const dataTable =\n",
              "          await google.colab.kernel.invokeFunction('convertToInteractive',\n",
              "                                                    [key], {});\n",
              "        if (!dataTable) return;\n",
              "\n",
              "        const docLinkHtml = 'Like what you see? Visit the ' +\n",
              "          '<a target=\"_blank\" href=https://colab.research.google.com/notebooks/data_table.ipynb>data table notebook</a>'\n",
              "          + ' to learn more about interactive tables.';\n",
              "        element.innerHTML = '';\n",
              "        dataTable['output_type'] = 'display_data';\n",
              "        await google.colab.output.renderOutput(dataTable, element);\n",
              "        const docLink = document.createElement('div');\n",
              "        docLink.innerHTML = docLinkHtml;\n",
              "        element.appendChild(docLink);\n",
              "      }\n",
              "    </script>\n",
              "  </div>\n",
              "\n",
              "\n",
              "<div id=\"df-34ef0346-5643-4cc7-a77d-b1490d237ae7\">\n",
              "  <button class=\"colab-df-quickchart\" onclick=\"quickchart('df-34ef0346-5643-4cc7-a77d-b1490d237ae7')\"\n",
              "            title=\"Suggest charts\"\n",
              "            style=\"display:none;\">\n",
              "\n",
              "<svg xmlns=\"http://www.w3.org/2000/svg\" height=\"24px\"viewBox=\"0 0 24 24\"\n",
              "     width=\"24px\">\n",
              "    <g>\n",
              "        <path d=\"M19 3H5c-1.1 0-2 .9-2 2v14c0 1.1.9 2 2 2h14c1.1 0 2-.9 2-2V5c0-1.1-.9-2-2-2zM9 17H7v-7h2v7zm4 0h-2V7h2v10zm4 0h-2v-4h2v4z\"/>\n",
              "    </g>\n",
              "</svg>\n",
              "  </button>\n",
              "\n",
              "<style>\n",
              "  .colab-df-quickchart {\n",
              "      --bg-color: #E8F0FE;\n",
              "      --fill-color: #1967D2;\n",
              "      --hover-bg-color: #E2EBFA;\n",
              "      --hover-fill-color: #174EA6;\n",
              "      --disabled-fill-color: #AAA;\n",
              "      --disabled-bg-color: #DDD;\n",
              "  }\n",
              "\n",
              "  [theme=dark] .colab-df-quickchart {\n",
              "      --bg-color: #3B4455;\n",
              "      --fill-color: #D2E3FC;\n",
              "      --hover-bg-color: #434B5C;\n",
              "      --hover-fill-color: #FFFFFF;\n",
              "      --disabled-bg-color: #3B4455;\n",
              "      --disabled-fill-color: #666;\n",
              "  }\n",
              "\n",
              "  .colab-df-quickchart {\n",
              "    background-color: var(--bg-color);\n",
              "    border: none;\n",
              "    border-radius: 50%;\n",
              "    cursor: pointer;\n",
              "    display: none;\n",
              "    fill: var(--fill-color);\n",
              "    height: 32px;\n",
              "    padding: 0;\n",
              "    width: 32px;\n",
              "  }\n",
              "\n",
              "  .colab-df-quickchart:hover {\n",
              "    background-color: var(--hover-bg-color);\n",
              "    box-shadow: 0 1px 2px rgba(60, 64, 67, 0.3), 0 1px 3px 1px rgba(60, 64, 67, 0.15);\n",
              "    fill: var(--button-hover-fill-color);\n",
              "  }\n",
              "\n",
              "  .colab-df-quickchart-complete:disabled,\n",
              "  .colab-df-quickchart-complete:disabled:hover {\n",
              "    background-color: var(--disabled-bg-color);\n",
              "    fill: var(--disabled-fill-color);\n",
              "    box-shadow: none;\n",
              "  }\n",
              "\n",
              "  .colab-df-spinner {\n",
              "    border: 2px solid var(--fill-color);\n",
              "    border-color: transparent;\n",
              "    border-bottom-color: var(--fill-color);\n",
              "    animation:\n",
              "      spin 1s steps(1) infinite;\n",
              "  }\n",
              "\n",
              "  @keyframes spin {\n",
              "    0% {\n",
              "      border-color: transparent;\n",
              "      border-bottom-color: var(--fill-color);\n",
              "      border-left-color: var(--fill-color);\n",
              "    }\n",
              "    20% {\n",
              "      border-color: transparent;\n",
              "      border-left-color: var(--fill-color);\n",
              "      border-top-color: var(--fill-color);\n",
              "    }\n",
              "    30% {\n",
              "      border-color: transparent;\n",
              "      border-left-color: var(--fill-color);\n",
              "      border-top-color: var(--fill-color);\n",
              "      border-right-color: var(--fill-color);\n",
              "    }\n",
              "    40% {\n",
              "      border-color: transparent;\n",
              "      border-right-color: var(--fill-color);\n",
              "      border-top-color: var(--fill-color);\n",
              "    }\n",
              "    60% {\n",
              "      border-color: transparent;\n",
              "      border-right-color: var(--fill-color);\n",
              "    }\n",
              "    80% {\n",
              "      border-color: transparent;\n",
              "      border-right-color: var(--fill-color);\n",
              "      border-bottom-color: var(--fill-color);\n",
              "    }\n",
              "    90% {\n",
              "      border-color: transparent;\n",
              "      border-bottom-color: var(--fill-color);\n",
              "    }\n",
              "  }\n",
              "</style>\n",
              "\n",
              "  <script>\n",
              "    async function quickchart(key) {\n",
              "      const quickchartButtonEl =\n",
              "        document.querySelector('#' + key + ' button');\n",
              "      quickchartButtonEl.disabled = true;  // To prevent multiple clicks.\n",
              "      quickchartButtonEl.classList.add('colab-df-spinner');\n",
              "      try {\n",
              "        const charts = await google.colab.kernel.invokeFunction(\n",
              "            'suggestCharts', [key], {});\n",
              "      } catch (error) {\n",
              "        console.error('Error during call to suggestCharts:', error);\n",
              "      }\n",
              "      quickchartButtonEl.classList.remove('colab-df-spinner');\n",
              "      quickchartButtonEl.classList.add('colab-df-quickchart-complete');\n",
              "    }\n",
              "    (() => {\n",
              "      let quickchartButtonEl =\n",
              "        document.querySelector('#df-34ef0346-5643-4cc7-a77d-b1490d237ae7 button');\n",
              "      quickchartButtonEl.style.display =\n",
              "        google.colab.kernel.accessAllowed ? 'block' : 'none';\n",
              "    })();\n",
              "  </script>\n",
              "</div>\n",
              "    </div>\n",
              "  </div>\n"
            ]
          },
          "metadata": {},
          "execution_count": 11
        }
      ]
    },
    {
      "cell_type": "code",
      "source": [
        "fig, ax = plt.subplots(figsize=(8, 6))\n",
        "\n",
        "for res, label, color, marker, markersize in zip([res1, res2, res3], ['control + water', 'control + flg22', 'FLS2 + flg22'], ['#457b9d', '#f4a261', '#6a994e'], ['o', 'o', 'o'], [15, 15, 15]):\n",
        "    times = [time // 60 for time in res.keys()]\n",
        "    means = [entry['mean'] for entry in res.values()]\n",
        "    std_errors = [entry['std_error'] for entry in res.values()]\n",
        "\n",
        "    ax.errorbar(times, means, yerr=std_errors, capsize=3, label=label, color=color)\n",
        "\n",
        "    ax.scatter(times, means, color=color, marker=marker, s=markersize)\n",
        "\n",
        "# 그래프 설정\n",
        "ax.set_xticks(np.arange(0, max(max(res1.keys()), max(res2.keys()), max(res3.keys())) // 60 + 1, 2))\n",
        "ax.set_xlabel('Time (minute)', labelpad=10)\n",
        "ax.set_ylabel('RLU (relative light unit)', labelpad=10)\n",
        "ax.set_ylim(0, 18000)\n",
        "ax.tick_params(axis='y', which='both', left=False, right=False, labelleft=True)\n",
        "ax.grid(axis='y', linestyle='-', alpha=0.5)\n",
        "# ax.set_title('ROS burst measure by luminescence in N.benthamiana samples', pad=20)\n",
        "ax.legend()\n",
        "\n",
        "handles, labels = ax.get_legend_handles_labels()\n",
        "handles = [h[0] for h in handles]\n",
        "ax.legend(handles, labels)\n",
        "\n",
        "ax.spines['right'].set_visible(False)\n",
        "ax.spines['left'].set_visible(False)\n",
        "ax.spines['top'].set_visible(False)\n",
        "\n",
        "plt.show()"
      ],
      "metadata": {
        "colab": {
          "base_uri": "https://localhost:8080/",
          "height": 556
        },
        "id": "RMwc2YnpkI7L",
        "outputId": "b0dc5668-c6de-433b-9415-db62632ead97"
      },
      "execution_count": null,
      "outputs": [
        {
          "output_type": "display_data",
          "data": {
            "text/plain": [
              "<Figure size 800x600 with 1 Axes>"
            ],
            "image/png": "[encoded data removed]"
          },
          "metadata": {}
        }
      ]
    },
    {
      "cell_type": "markdown",
      "source": [
        "---\n",
        "## > statistical analysis\n",
        "- about p-value\n",
        "    - A small p-value (typically less than 0.05 or 0.01) = evidence to reject the null hypothesis in favor of the alternative hypothesis.\n",
        "    - 작은 p-값은 귀무 가설을 기각할 증거가 된다"
      ],
      "metadata": {
        "id": "3x2foGKlHn6B"
      }
    },
    {
      "cell_type": "markdown",
      "source": [
        "---\n",
        "### > Shapiro-Wilk test\n",
        "- The W statistic indicates the goodness of fit between the given sample data and a normal distribution.\n",
        "- W 통계량은 주어진 샘플 데이터와 정규 분포 사이의 적합도를 나타낸다.\n",
        "- A W value close to 1 suggests that the data is close to a normal distribution, with values closer to 1 indicating a better fit.\n",
        "- W 값이 1에 가까울수록 데이터가 정규 분포에 가깝다는 것을 의미한다 (1에 가까울수록 좋은 적합도)"
      ],
      "metadata": {
        "id": "bkPf6QTtGguK"
      }
    },
    {
      "cell_type": "code",
      "source": [
        "shapiro_test1 = stats.shapiro(mean_lst1)\n",
        "shapiro_test2 = stats.shapiro(mean_lst2)\n",
        "shapiro_test3 = stats.shapiro(mean_lst3)\n",
        "\n",
        "df_SW = pd.DataFrame(\n",
        "        {'statistic (W)' : [shapiro_test1.statistic, shapiro_test2.statistic, shapiro_test3.statistic],\n",
        "        'p-value' : [shapiro_test1.pvalue, shapiro_test2.pvalue, shapiro_test3.pvalue]},\n",
        "        index = ['control + water', 'control + flg22', 'group C + flg22']\n",
        "    )\n",
        "df_SW"
      ],
      "metadata": {
        "id": "McKcrYBo5Z8M"
      },
      "execution_count": null,
      "outputs": []
    },
    {
      "cell_type": "markdown",
      "source": [
        "---\n",
        "### > Mann-Whitney U test\n",
        "- A higher U statistic indicates a larger difference between the two samples.\n",
        "- U 통계량이 클수록 두 표본 간의 차이가 크다는 것을 의미"
      ],
      "metadata": {
        "id": "9lho8iRhGnYt"
      }
    },
    {
      "cell_type": "code",
      "source": [
        "utest1 = mannwhitneyu(mean_lst1, mean_lst2)\n",
        "utest2 = mannwhitneyu(mean_lst1, mean_lst3)\n",
        "utest3 = mannwhitneyu(mean_lst2, mean_lst3)\n",
        "\n",
        "df_MW = pd.DataFrame(\n",
        "        {'statistic (U)' : [utest1.statistic, utest2.statistic, utest3.statistic],\n",
        "        'p-value' : [utest1.pvalue, utest2.pvalue, utest3.pvalue]},\n",
        "        index = ['case1 - case2', 'case1 - case3', 'case2 - case3']\n",
        "    )\n",
        "df_MW"
      ],
      "metadata": {
        "id": "Ocu4ZWoZvZTT"
      },
      "execution_count": null,
      "outputs": []
    },
    {
      "cell_type": "markdown",
      "source": [
        "---\n",
        "### > Friedman Test\n",
        "- Q represents the variance of ranks within each group, and a low Q suggests no difference in medians across groups.\n",
        "- Q 값은 각 그룹 내의 순위의 분산에 관한 것이며, 낮은 값은 각 그룹 간의 중앙값의 차이가 없다는 것.\n",
        "- A high Q indicates a potential difference in medians among the groups.\n",
        "- Q 값이 크면 그룹 간에 중앙값의 차이가 있을 가능성이 높다."
      ],
      "metadata": {
        "id": "iMVY83tUIDEA"
      }
    },
    {
      "cell_type": "code",
      "source": [
        "FM = friedmanchisquare(mean_lst1, mean_lst2, mean_lst3)\n",
        "\n",
        "df_FM = pd.DataFrame(\n",
        "        {'statistic (Q)' : [FM.statistic],\n",
        "        'p-value' : [FM.pvalue]},\n",
        "        index = ['friedman test']\n",
        "    )\n",
        "df_FM"
      ],
      "metadata": {
        "id": "7eSCd8shEjW6"
      },
      "execution_count": null,
      "outputs": []
    },
    {
      "cell_type": "markdown",
      "source": [
        "---\n",
        "### > Kruskal-Wallis H Test\n",
        "- H represents a statistic that assesses whether there are differences in medians among groups.\n",
        "- H 값은 그룹 간의 중앙값 차이가 있는지를 나타내는 통계량.\n",
        "- A high H suggests evidence of differences in medians among groups.\n",
        "- H 값이 크면 적어도 하나의 그룹에서 중앙값 차이가 있다는 증거로 해석된다.\n",
        "- Large H values are interpreted as evidence that at least one group has a different median compared to the others.\n",
        "- 큰 H 값은 적어도 하나의 그룹에서 다른 그룹과 다른 중앙값를 가진다는 증거로 해석된다."
      ],
      "metadata": {
        "id": "YuwwX3mJI4aA"
      }
    },
    {
      "cell_type": "code",
      "source": [
        "KS = kruskal(mean_lst1, mean_lst2, mean_lst3)\n",
        "\n",
        "df_KS = pd.DataFrame(\n",
        "        {'statistic (H)' : [KS.statistic],\n",
        "        'p-value' : [KS.pvalue]},\n",
        "        index = ['H test']\n",
        "    )\n",
        "df_KS"
      ],
      "metadata": {
        "id": "nZ3E20hyEv2h"
      },
      "execution_count": null,
      "outputs": []
    },
    {
      "cell_type": "code",
      "source": [
        "posthoc_results = posthoc_dunn([mean_lst1, mean_lst2, mean_lst3], p_adjust='bonferroni')\n",
        "posthoc_results"
      ],
      "metadata": {
        "id": "XJ6X-H26QsVo"
      },
      "execution_count": null,
      "outputs": []
    },
    {
      "cell_type": "markdown",
      "source": [
        "- (1, 2): 그룹 1과 그룹 2 간의 비교에서 p-값이 0.000681로 유의수준 0.05보다 작다. 따라서 그룹 1과 그룹 2 간에는 통계적으로 유의한 차이가 있다.\n",
        "- (1, 3): 그룹 1과 그룹 3 간의 비교에서 p-값이 5.55e-09로 매우 작다. 따라서 그룹 1과 그룹 3 간에는 통계적으로 유의한 차이가 있다.\n",
        "- (2, 3): 그룹 2와 그룹 3 간의 비교에서 p-값이 0.060481로 유의수준 0.05보다 크다. 따라서 그룹 2와 그룹 3 간에는 통계적으로 유의한 차이가 없다고 해석할 수 있다.\n",
        "\n"
      ],
      "metadata": {
        "id": "UCaToMoUSKRT"
      }
    },
    {
      "cell_type": "code",
      "source": [],
      "metadata": {
        "id": "N3U5gRNMRHbm"
      },
      "execution_count": null,
      "outputs": []
    }
  ]
}